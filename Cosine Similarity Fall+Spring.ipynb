{
 "cells": [
  {
   "cell_type": "markdown",
   "metadata": {},
   "source": [
    "#Club Overlap Analysis"
   ]
  },
  {
   "cell_type": "markdown",
   "metadata": {},
   "source": [
    "#Import necessary packages"
   ]
  },
  {
   "cell_type": "code",
   "execution_count": 1,
   "metadata": {
    "collapsed": false
   },
   "outputs": [],
   "source": [
    "import numpy as np\n",
    "import pandas as pd\n",
    "import math\n",
    "import os\n",
    "import matplotlib.pyplot as plt\n",
    "%matplotlib inline\n",
    "import seaborn as sns\n",
    "import datetime"
   ]
  },
  {
   "cell_type": "markdown",
   "metadata": {},
   "source": [
    "#Read in the Swipes Data"
   ]
  },
  {
   "cell_type": "code",
   "execution_count": 2,
   "metadata": {},
   "outputs": [
    {
     "data": {
      "text/plain": [
       "(27089, 18780)"
      ]
     },
     "execution_count": 2,
     "metadata": {},
     "output_type": "execute_result"
    }
   ],
   "source": [
    "swipes_f15 = pd.read_csv('stern_only_f16 - Copy1.csv')\n",
    "swipes_s16 = pd.read_csv('stern_only_s17_updated - Copy.csv')\n",
    "\n",
    "len(swipes_f15),len(swipes_s16)"
   ]
  },
  {
   "cell_type": "markdown",
   "metadata": {},
   "source": [
    "#Subset Swipes Data based on Relevant Conditions"
   ]
  },
  {
   "cell_type": "code",
   "execution_count": 4,
   "metadata": {
    "collapsed": true
   },
   "outputs": [],
   "source": [
    "swipes_f15 = swipes_f15[swipes_f15['N Number'].notnull()]\n",
    "swipes_s16 = swipes_s16[swipes_s16['N Number'].notnull()]"
   ]
  },
  {
   "cell_type": "code",
   "execution_count": 5,
   "metadata": {},
   "outputs": [],
   "source": [
    "total_swipes=swipes_f15.append(swipes_s16, ignore_index=True)"
   ]
  },
  {
   "cell_type": "code",
   "execution_count": 6,
   "metadata": {},
   "outputs": [],
   "source": [
    "total_swipes.to_csv('TotalSwipes1617.csv')"
   ]
  },
  {
   "cell_type": "code",
   "execution_count": 7,
   "metadata": {},
   "outputs": [],
   "source": [
    "total_swipes = pd.read_csv('TotalSwipes1617.csv')"
   ]
  },
  {
   "cell_type": "markdown",
   "metadata": {},
   "source": [
    "#Aggregation and Unstacking to get swipes per student per club"
   ]
  },
  {
   "cell_type": "code",
   "execution_count": 8,
   "metadata": {
    "collapsed": true
   },
   "outputs": [],
   "source": [
    "f15_hf = total_swipes.groupby(['N Number','Portal']).size()\n",
    "#print f14_gender\n",
    "f15_hfs=f15_hf.unstack(level='Portal')\n",
    "#print f16_gsu\n",
    "f15_hfs.to_csv('HFS_Total_1617.csv')"
   ]
  },
  {
   "cell_type": "code",
   "execution_count": 9,
   "metadata": {
    "collapsed": false
   },
   "outputs": [],
   "source": [
    "total_club_participation = pd.ExcelWriter('Total Club Participation 1617.xlsx', engine='xlsxwriter')\n",
    "f15_hfs.to_excel(total_club_participation, sheet_name='Year club participation')\n",
    "total_club_participation.save()"
   ]
  },
  {
   "cell_type": "markdown",
   "metadata": {},
   "source": [
    "#Similar Analysis but with Unique Student - Club Interaction"
   ]
  },
  {
   "cell_type": "code",
   "execution_count": 11,
   "metadata": {
    "collapsed": true
   },
   "outputs": [],
   "source": [
    "f15_nodup=total_swipes.drop_duplicates(subset=['N Number', 'Portal'])"
   ]
  },
  {
   "cell_type": "code",
   "execution_count": 12,
   "metadata": {
    "collapsed": true
   },
   "outputs": [],
   "source": [
    "f15_hfu = f15_nodup.groupby(['N Number','Portal']).size()\n",
    "f15_hfud=f15_hfu.unstack(level='N Number')\n",
    "f15_hfud.to_csv('HFS_Unique_1617.csv')"
   ]
  },
  {
   "cell_type": "code",
   "execution_count": 13,
   "metadata": {
    "collapsed": false
   },
   "outputs": [],
   "source": [
    "unique_club_participation = pd.ExcelWriter('Unique Club Participation 1617.xlsx', engine='xlsxwriter')\n",
    "f15_hfud.to_excel(unique_club_participation, sheet_name='Unique Year club participation')\n",
    "unique_club_participation.save()"
   ]
  },
  {
   "cell_type": "markdown",
   "metadata": {},
   "source": [
    "#Cosine Similarity"
   ]
  },
  {
   "cell_type": "code",
   "execution_count": 14,
   "metadata": {
    "collapsed": false
   },
   "outputs": [],
   "source": [
    "fall = pd.read_csv('HFS_Unique_1617.csv')"
   ]
  },
  {
   "cell_type": "code",
   "execution_count": 15,
   "metadata": {
    "collapsed": true
   },
   "outputs": [],
   "source": [
    "fall.name='total'"
   ]
  },
  {
   "cell_type": "code",
   "execution_count": 16,
   "metadata": {
    "collapsed": true
   },
   "outputs": [],
   "source": [
    "def compute_similarity(df,file_name):\n",
    "    \n",
    "    columns = list(df.columns.values)\n",
    "    df.rename(columns={'Portal':'Club'},inplace=True)\n",
    "    \n",
    "    df = df.set_index('Club')\n",
    "    for i in df.index.values:\n",
    "        print (i)\n",
    "        for j in columns[3:]:\n",
    "            x11 = np.array(df.loc[i,j])\n",
    "            x22 = np.array(df.loc[i,columns[2]])\n",
    "            x12 = np.divide(x11,x22)\n",
    "            df.loc[i,j] = x12\n",
    "\n",
    "    df = df.reset_index()\n",
    "    df.fillna(0,inplace=True)\n",
    "    df.to_csv(file_name+' unit vector_1.csv')\n",
    "    unit_vector = df.set_index('Club')\n",
    "    imp = columns[3:]\n",
    "    length=len(imp)\n",
    "    print(length)\n",
    "    clubs_df = pd.DataFrame()\n",
    "    clubs_df['clubs'] = list(unit_vector.index.values)\n",
    "    clubs_df = clubs_df.set_index('clubs')\n",
    "    #q=20\n",
    "    for i in clubs_df.index.values:\n",
    "        print (i)\n",
    "        for j in clubs_df.index.values:\n",
    "\n",
    "            x1 = np.array(unit_vector.loc[i,imp])\n",
    "            x2 = np.array(unit_vector.loc[j,imp])\n",
    "            x = np.sum(np.multiply(x1,x2))\n",
    "            clubs_df.loc[i,j] = x\n",
    "    clubs_df = clubs_df.reset_index()\n",
    "    clubs_df.to_csv(file_name +' clubs cosine similarity.csv')"
   ]
  },
  {
   "cell_type": "code",
   "execution_count": null,
   "metadata": {},
   "outputs": [],
   "source": []
  },
  {
   "cell_type": "code",
   "execution_count": null,
   "metadata": {
    "collapsed": true
   },
   "outputs": [],
   "source": []
  }
 ],
 "metadata": {
  "kernelspec": {
   "display_name": "Python 3",
   "language": "python",
   "name": "python3"
  },
  "language_info": {
   "codemirror_mode": {
    "name": "ipython",
    "version": 3
   },
   "file_extension": ".py",
   "mimetype": "text/x-python",
   "name": "python",
   "nbconvert_exporter": "python",
   "pygments_lexer": "ipython3",
   "version": "3.6.3"
  }
 },
 "nbformat": 4,
 "nbformat_minor": 2
}
